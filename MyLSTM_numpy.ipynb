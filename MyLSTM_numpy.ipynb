{
 "cells": [
  {
   "cell_type": "code",
   "execution_count": null,
   "metadata": {},
   "outputs": [],
   "source": [
    "import numpy as np"
   ]
  },
  {
   "cell_type": "code",
   "execution_count": null,
   "metadata": {},
   "outputs": [],
   "source": [
    "def matrix_product(A, B):\n",
    "    if type(A[0]) != list:\n",
    "        A = [A]\n",
    "\n",
    "    if len(A[0]) != len(B):\n",
    "        raise ValueError(\"행렬 곱 연산이 불가능합니다.\")\n",
    "\n",
    "    result = [[0 for _ in range(len(B[0]))] for _ in range(len(A))]\n",
    "    for i in range(len(A)):\n",
    "        for j in range(len(B[0])):\n",
    "            dot_product = 0\n",
    "            for k in range(len(A[0])):\n",
    "                dot_product += A[i][k] * B[k][j]\n",
    "            result[i][j] = dot_product\n",
    "    return result"
   ]
  },
  {
   "cell_type": "code",
   "execution_count": null,
   "metadata": {},
   "outputs": [],
   "source": [
    "##########주어짐###########\n",
    "#입력\n",
    "X=[[i+0.1,i] for i in range(1000)] #한 시점에 특징이 2가지인 데이터 1000개\n",
    "#print(\"X:\",np.array(X).shape)\n",
    "#print(X)\n",
    "#배치 구현 <- simple_lstm 참고하여 바꿔야\n",
    "BatchSize = int(input(\"배치 사이즈:\"))\n",
    "X=X[:BatchSize]\n",
    "#print(\"X:\",np.array(X).shape)\n",
    "#print(X)\n",
    "timeSize = int(input(\"한번에 고려할 시점 수:\")) #한번에 고려할 시점의 개수\n",
    "newX=[]\n",
    "for i in range(len(X)-timeSize+1): # [0 1 2 3 4]를 2시점 씩 고려하면 [0 1] [1 2] [2 3] [3 4] 총 4가지가 되므로 \n",
    "    smallX=[]\n",
    "    for j in range(timeSize):\n",
    "        smallX.append(X[i+j])\n",
    "    newX.append(smallX)\n",
    "X = newX\n",
    "print(\"X:\",np.array(X).shape)\n",
    "print(X)\n",
    "input_len = len(X)  #데이터의 개수만큼 target과 예측값이 있어야 하므로\n",
    "\n",
    "#target\n",
    "T=[[i//10] for i in range(input_len)] # 임의로 첫번째 값을 10으로 나눈 몫으로 정함 , 타겟이 마지막 층이라 원소가 1개인 target 값이 input_len만큼있음\n",
    "print(\"T:\",np.array(T).shape)\n",
    "print(T)\n",
    "\n",
    "#셔플수행하면 좋으나 그냥지나감"
   ]
  },
  {
   "cell_type": "code",
   "execution_count": null,
   "metadata": {},
   "outputs": [],
   "source": [
    "outputQ = input(\"LSTM 한 층의 입력하나요(Y/N)?:\") #층이 하나면 그냥 target의 종류, 층이 여러개면 정해줘야 함. 현재는 단일 모듈이므로 target의 종류로 정함\n",
    "count_list=[] # 타겟의 종류 수 카운트 => layer output의 크기를 정하기 위해서(위의 ? 정함) lstm 층이 여러개면 lstm 모듈마다 output_size 정해야\n",
    "cnt = 0\n",
    "for now in T:\n",
    "    if now in count_list:\n",
    "        pass\n",
    "    else:\n",
    "        cnt += 1\n",
    "        count_list.append(now)\n",
    "output_size = cnt #w의 output 크기\n",
    "if(outputQ == \"N\"):\n",
    "    output_size = int(input(\"output_size:\")) \n",
    "print(output_size)"
   ]
  },
  {
   "cell_type": "code",
   "execution_count": null,
   "metadata": {},
   "outputs": [],
   "source": [
    "##########작성###########\n",
    "#state초기화\n",
    "Y = [[[0 for i in range(output_size)] for i in range(timeSize)] for _ in range(input_len)] # 실제 값은 X의 입력 만큼 있어야 하므로\n",
    "C = [[[0 for i in range(output_size)] for i in range(timeSize)] for _ in range(input_len)] # X은 시점 수 만큼 있어야 하므로\n",
    "print(\"Y:\",np.array(Y).shape)\n",
    "print(Y)\n",
    "print(\"C:\",np.array(C).shape)\n",
    "print(C)"
   ]
  },
  {
   "cell_type": "code",
   "execution_count": null,
   "metadata": {},
   "outputs": [],
   "source": [
    "#parameter초기화\n",
    "input_feature = len(X[0][0]) # 한 시점에서 데이터의 특징 수 <= X와 w의 행렬곱을 수행해야하므로 X가 (시점수,2)이므로 w는 (2,?)가 되야함\n",
    "print(input_feature)"
   ]
  },
  {
   "cell_type": "code",
   "execution_count": null,
   "metadata": {},
   "outputs": [],
   "source": [
    "#parameter 초기화\n",
    "import random\n",
    "#가중치 초기화: 가우시안 초기화 방법,  He 초기화 (He Initialization) 또는 Xavier 초기화 (Glorot Initialization)도 존재\n",
    "w_matrix = []\n",
    "v_matrix = []\n",
    "b_matrix = []\n",
    "for _ in range(4): ## 망각 게이트,입력 게이트,새로운 기억, 출력 게이트 총 4개에서 업데이트 해야함\n",
    "    w0=[[random.gauss(0,1) for i in range(output_size)] for j in range(input_feature)] # X는 (시점 수, 특징 수)이므로 w 는 (특징수, output_size) \n",
    "    #print(np.array(w0).shape)\n",
    "    v0=[[random.gauss(0,1) for i in range(output_size)]for j in range(output_size)]  # Y는 (시점 수, 특징 수)이므로 w 는 (특징수, output_size)\n",
    "    #print(np.array(v0).shape)\n",
    "    b0=[[random.gauss(0,1) for i in range(output_size)]for j in range(timeSize)] \n",
    "    #print(np.array(b0).shape)\n",
    "    w_matrix.append(w0)\n",
    "    v_matrix.append(v0)\n",
    "    b_matrix.append(b0)\n",
    "print('X')\n",
    "print(np.array(X).shape)\n",
    "print('w_matrix')\n",
    "print(np.array(w_matrix).shape)\n",
    "print('Y')\n",
    "print(np.array(Y).shape)\n",
    "print('v_matrix')\n",
    "print(np.array(v_matrix).shape)\n",
    "################################\n",
    "print('b_matrix')\n",
    "print(np.array(b_matrix).shape)\n"
   ]
  },
  {
   "cell_type": "code",
   "execution_count": null,
   "metadata": {},
   "outputs": [],
   "source": [
    "now = 1\n",
    "nowtime = 1\n",
    "print(\"============  matrix product (Xw)  ============\\n\")\n",
    "#print(np.matmul(X[now],w_matrix[0]).shape) .matnul는 2차원만 연산 가능\n",
    "#print(np.matmul(X[now],w_matrix[0]))\n",
    "print(\"-----------------Using Numpy------------------\")\n",
    "print(np.dot(X[now],w_matrix[0]).shape)\n",
    "print(np.dot(X[now],w_matrix[0]))\n",
    "print(\"\\n----------------What I made------------------\")\n",
    "print(np.array(matrix_product(X[nowtime],w_matrix[0])).shape)\n",
    "print(np.array(matrix_product(X[nowtime],w_matrix[0])))\n"
   ]
  },
  {
   "cell_type": "code",
   "execution_count": null,
   "metadata": {},
   "outputs": [],
   "source": [
    "print(\"==================\")\n",
    "print(\"Yv\")\n",
    "print(np.dot(Y[now],v_matrix[0]).shape)\n",
    "print(np.dot(Y[now],v_matrix[0]))\n",
    "print(np.array(matrix_product(Y[nowtime],v_matrix[0])).shape)\n",
    "print(np.array(matrix_product(Y[nowtime],v_matrix[0])))"
   ]
  },
  {
   "cell_type": "code",
   "execution_count": null,
   "metadata": {},
   "outputs": [],
   "source": [
    "def element_sum(arr1, arr2):\n",
    "    if len(arr1) != len(arr2)  or len(arr1[0]) != len(arr2[0]):\n",
    "        raise ValueError(\"Input arrays must have the same shape\")\n",
    "    #print(np.array(arr1))\n",
    "    #print(np.array(arr2))\n",
    "    result = []\n",
    "    for i in range(len(arr1)):\n",
    "        row = []\n",
    "        for j in range(len(arr1[0])):\n",
    "            row.append(arr1[i][j] + arr2[i][j])\n",
    "        result.append(row)\n",
    "    \n",
    "    return result"
   ]
  },
  {
   "cell_type": "code",
   "execution_count": null,
   "metadata": {},
   "outputs": [],
   "source": [
    "print(\"========   elemental sum  (Xw+Yv+b) ==========\\n\")\n",
    "print(\"-----------------Using Numpy------------------\")\n",
    "print((np.dot(X[now],w_matrix[0])+np.dot(Y[now],v_matrix[0])+b_matrix[0]).shape)\n",
    "print((np.dot(X[now],w_matrix[0])+np.dot(Y[now],v_matrix[0])+b_matrix[0]))\n",
    "print(\"\\n----------------What I made------------------\")\n",
    "Xw = matrix_product(X[nowtime],w_matrix[0])\n",
    "Yv = matrix_product(Y[nowtime],v_matrix[0])\n",
    "Xw_Yv_b = element_sum(element_sum(Xw,Yv),b_matrix[0])\n",
    "print(np.array(Xw_Yv_b).shape)\n",
    "print(np.array(Xw_Yv_b))\n"
   ]
  },
  {
   "cell_type": "code",
   "execution_count": null,
   "metadata": {},
   "outputs": [],
   "source": [
    "def activation(function,x):\n",
    "    e = 2.718281828459045 #자연상수:2.71828182845904523536\n",
    "    result = []\n",
    "    if(function == 'Sigmoid'):\n",
    "        for i in range(len(x)):\n",
    "            row = []\n",
    "            for j in range(len(x[0])):\n",
    "                now_x = x[i][j]\n",
    "                row.append((e**now_x)/((e**now_x)+1)) #C언어에서는 **이 없어 **도 구현\n",
    "            result.append(row)\n",
    "        return result\n",
    "    if(function == 'Tanh'):\n",
    "        for i in range(len(x)):\n",
    "            row = []\n",
    "            for j in range(len(x[0])):\n",
    "                now_x = x[i][j]\n",
    "                row.append((2/(1+(e**(-2*now_x))))-1)\n",
    "            result.append(row)\n",
    "        return result\n",
    "    if(function == 'ReLU'):\n",
    "        for i in range(len(x)):\n",
    "            row = []\n",
    "            for j in range(len(x[0])):\n",
    "                now_x = x[i][j]\n",
    "                if (now_x<=0):\n",
    "                    row.append(0)\n",
    "                else:\n",
    "                    row.append(now_x)\n",
    "            result.append(row)\n",
    "        return result"
   ]
  },
  {
   "cell_type": "code",
   "execution_count": null,
   "metadata": {},
   "outputs": [],
   "source": [
    "print(\"======== Activate Fuction (Sigmoid) ==========\\n\")\n",
    "print(\"-----------------Using Numpy------------------\")\n",
    "def sigmoid(x):\n",
    "    return 1 / (1 + np.exp(-x))\n",
    "print(sigmoid(np.array(Xw_Yv_b)))\n",
    "print(\"\\n----------------What I made------------------\")\n",
    "print(np.array(activation('Sigmoid',Xw_Yv_b)))"
   ]
  },
  {
   "cell_type": "code",
   "execution_count": null,
   "metadata": {},
   "outputs": [],
   "source": [
    "print(\"======== Activate Fuction (Tanh) ==========\\n\")\n",
    "print(\"-----------------Using Numpy------------------\")\n",
    "npX=np.tanh(Xw_Yv_b)\n",
    "print(npX)\n",
    "print(\"\\n----------------What I made------------------\")\n",
    "print(np.array(activation('Tanh',Xw_Yv_b)))"
   ]
  },
  {
   "cell_type": "code",
   "execution_count": null,
   "metadata": {},
   "outputs": [],
   "source": [
    "###################################LSTM###################################\n",
    "nowtime = 1\n",
    "pasttime = nowtime-1\n",
    "#forgot gate\n",
    "print(\"===========forgot gate============\")\n",
    "Xw = matrix_product(X[nowtime],w_matrix[0])\n",
    "Yv = matrix_product(Y[pasttime],v_matrix[0])\n",
    "Xw_Yv_b = element_sum(element_sum(Xw,Yv),b_matrix[0])\n",
    "fGate = activation('Sigmoid',Xw_Yv_b)\n",
    "print(np.array(fGate).shape)\n",
    "print(np.array(fGate))"
   ]
  },
  {
   "cell_type": "code",
   "execution_count": null,
   "metadata": {},
   "outputs": [],
   "source": [
    "#input gate\n",
    "print(\"===========input gate============\")\n",
    "Xw = matrix_product(X[nowtime],w_matrix[1])\n",
    "Yv = matrix_product(Y[pasttime],v_matrix[1])\n",
    "Xw_Yv_b = element_sum(element_sum(Xw,Yv),b_matrix[1])\n",
    "iGate = activation('Sigmoid',Xw_Yv_b)\n",
    "print(np.array(iGate).shape)\n",
    "print(np.array(iGate))"
   ]
  },
  {
   "cell_type": "code",
   "execution_count": null,
   "metadata": {},
   "outputs": [],
   "source": [
    "#new input\n",
    "print(\"===========new input============\")\n",
    "Xw = matrix_product(X[nowtime],w_matrix[2])\n",
    "Yv = matrix_product(Y[pasttime],v_matrix[2])\n",
    "Xw_Yv_b = element_sum(element_sum(Xw,Yv),b_matrix[2])\n",
    "newIn = activation('Tanh',Xw_Yv_b)\n",
    "print(np.array(newIn).shape)\n",
    "print(np.array(newIn))"
   ]
  },
  {
   "cell_type": "code",
   "execution_count": null,
   "metadata": {},
   "outputs": [],
   "source": [
    "#output gate\n",
    "print(\"===========output gate============\")\n",
    "Xw = matrix_product(X[nowtime],w_matrix[3])\n",
    "Yv = matrix_product(Y[pasttime],v_matrix[3])\n",
    "Xw_Yv_b = element_sum(element_sum(Xw,Yv),b_matrix[3])\n",
    "oGate = activation('Sigmoid',Xw_Yv_b)\n",
    "print(np.array(oGate).shape)\n",
    "print(np.array(oGate))"
   ]
  },
  {
   "cell_type": "code",
   "execution_count": null,
   "metadata": {},
   "outputs": [],
   "source": [
    "def element_multi(arr1, arr2):\n",
    "    if len(arr1) != len(arr2) or len(arr1[0]) != len(arr2[0]):\n",
    "        raise ValueError(\"Input arrays must have the same shape\")\n",
    "    #print(np.array(arr1))\n",
    "    #print(np.array(arr2))\n",
    "    result = []\n",
    "    for i in range(len(arr1)):\n",
    "        row = []\n",
    "        for j in range(len(arr1[0])):\n",
    "            row.append(arr1[i][j] * arr2[i][j])\n",
    "        result.append(row)\n",
    "    return result"
   ]
  },
  {
   "cell_type": "code",
   "execution_count": null,
   "metadata": {},
   "outputs": [],
   "source": [
    "print(\"========   elemental multiplication  ==========\\n\")\n",
    "print(\"-----------------Using Numpy------------------\")\n",
    "np_C = np.array(C)\n",
    "np_F = np.array(fGate)\n",
    "np_CF = np_C[pasttime] * np_F\n",
    "print(np_CF.shape)\n",
    "print(np_CF)\n",
    "print(\"\\n----------------What I made------------------\")\n",
    "CF = element_multi(C[pasttime], fGate)\n",
    "print(np.array(CF).shape)\n",
    "print(np.array(CF))\n"
   ]
  },
  {
   "cell_type": "code",
   "execution_count": null,
   "metadata": {},
   "outputs": [],
   "source": [
    "print(np.array(C[nowtime]).shape)\n",
    "print(np.array(C[nowtime]))"
   ]
  },
  {
   "cell_type": "code",
   "execution_count": null,
   "metadata": {},
   "outputs": [],
   "source": [
    "print(np.array(Y[nowtime]).shape)\n",
    "print(np.array(Y[nowtime]))"
   ]
  },
  {
   "cell_type": "code",
   "execution_count": null,
   "metadata": {},
   "outputs": [],
   "source": [
    "#State\n",
    "C[nowtime] = element_sum(element_multi(C[pasttime], fGate),element_multi(iGate, newIn))\n",
    "Y[nowtime] = element_multi(oGate,activation('Tanh',C[nowtime]))"
   ]
  },
  {
   "cell_type": "code",
   "execution_count": null,
   "metadata": {},
   "outputs": [],
   "source": [
    "print(np.array(C[nowtime]).shape)\n",
    "print(np.array(C[nowtime]))"
   ]
  },
  {
   "cell_type": "code",
   "execution_count": null,
   "metadata": {},
   "outputs": [],
   "source": [
    "print(np.array(Y[nowtime]).shape)\n",
    "print(np.array(Y[nowtime]))"
   ]
  },
  {
   "cell_type": "code",
   "execution_count": null,
   "metadata": {},
   "outputs": [],
   "source": []
  }
 ],
 "metadata": {
  "kernelspec": {
   "display_name": "Python 3",
   "language": "python",
   "name": "python3"
  },
  "language_info": {
   "codemirror_mode": {
    "name": "ipython",
    "version": 3
   },
   "file_extension": ".py",
   "mimetype": "text/x-python",
   "name": "python",
   "nbconvert_exporter": "python",
   "pygments_lexer": "ipython3",
   "version": "3.9.13"
  },
  "orig_nbformat": 4
 },
 "nbformat": 4,
 "nbformat_minor": 2
}
